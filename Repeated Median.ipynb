{
 "cells": [
  {
   "cell_type": "code",
   "execution_count": 3,
   "metadata": {
    "collapsed": false
   },
   "outputs": [],
   "source": [
    "\"\"\"\n",
    "This module implements the Lowess function for nonparametric regression.\n",
    "Functions:\n",
    "lowess Fit a smooth nonparametric regression curve to a scatterplot.\n",
    "For more information, see\n",
    "William S. Cleveland: \"Robust locally weighted regression and smoothing\n",
    "scatterplots\", Journal of the American Statistical Association, December 1979,\n",
    "volume 74, number 368, pp. 829-836.\n",
    "William S. Cleveland and Susan J. Devlin: \"Locally weighted regression: An\n",
    "approach to regression analysis by local fitting\", Journal of the American\n",
    "Statistical Association, September 1988, volume 83, number 403, pp. 596-610.\n",
    "\"\"\"\n",
    "\n",
    "# Authors: Alexandre Gramfort <alexandre.gramfort@telecom-paristech.fr>\n",
    "#\n",
    "# License: BSD (3-clause)\n",
    "\n",
    "from math import ceil\n",
    "import numpy as np\n",
    "from scipy import linalg\n",
    "\n",
    "\n",
    "def lowess(x, y, f=2. / 3., iter=3):\n",
    "    \"\"\"lowess(x, y, f=2./3., iter=3) -> yest\n",
    "    Lowess smoother: Robust locally weighted regression.\n",
    "    The lowess function fits a nonparametric regression curve to a scatterplot.\n",
    "    The arrays x and y contain an equal number of elements; each pair\n",
    "    (x[i], y[i]) defines a data point in the scatterplot. The function returns\n",
    "    the estimated (smooth) values of y.\n",
    "    The smoothing span is given by f. A larger value for f will result in a\n",
    "    smoother curve. The number of robustifying iterations is given by iter. The\n",
    "    function will run faster with a smaller number of iterations.\n",
    "    \"\"\"\n",
    "    n = len(x)\n",
    "    r = int(ceil(f * n))\n",
    "    h = [np.sort(np.abs(x - x[i]))[r] for i in range(n)]\n",
    "    w = np.clip(np.abs((x[:, None] - x[None, :]) / h), 0.0, 1.0)\n",
    "    w = (1 - w ** 3) ** 3\n",
    "    yest = np.zeros(n)\n",
    "    delta = np.ones(n)\n",
    "    for iteration in range(iter):\n",
    "        for i in range(n):\n",
    "            weights = delta * w[:, i]\n",
    "            b = np.array([np.sum(weights * y), np.sum(weights * y * x)])\n",
    "            A = np.array([[np.sum(weights), np.sum(weights * x)],\n",
    "                          [np.sum(weights * x), np.sum(weights * x * x)]])\n",
    "            beta = linalg.solve(A, b)\n",
    "            yest[i] = beta[0] + beta[1] * x[i]\n",
    "\n",
    "        residuals = y - yest\n",
    "        s = np.median(np.abs(residuals))\n",
    "        delta = np.clip(residuals / (6.0 * s), -1, 1)\n",
    "        delta = (1 - delta ** 2) ** 2\n",
    "\n",
    "    return yest\n",
    "\n"
   ]
  },
  {
   "cell_type": "code",
   "execution_count": 58,
   "metadata": {
    "collapsed": true
   },
   "outputs": [],
   "source": [
    "def wgted_median(x,wgts): \n",
    "    weights = wgts/np.sum(wgts)\n",
    "    left = 0\n",
    "    right = len(x)-1\n",
    "    n = len(x)\n",
    "    if n != len(weights):\n",
    "        raise  Exception('Lengths dont match, wgts: {0} , x: {1} !'.format(n,len(weights)))\n",
    "    if n <3:\n",
    "        return np.mean(x)\n",
    "    while(left <= right):\n",
    "        mid = (left+right)//2\n",
    "        split = np.argpartition(x, mid)\n",
    "        left_wgt = np.sum( weights[split[0:mid]])\n",
    "        right_wgt = np.sum( weights[split[mid+1:]])\n",
    "        if np.around(left_wgt,3) <= 0.5 and  np.around(right_wgt,3) <=0.5:\n",
    "            if n%2 == 1 :\n",
    "                return x[split[mid]]\n",
    "            else:\n",
    "                if left_wgt >= right_wgt:\n",
    "                    return 0.5*(x[ split[ mid-1]] + x[split[ mid]] ) \n",
    "                else:\n",
    "                    split = np.argpartition(x, mid+1)\n",
    "                    return 0.5*(x[ split[ mid+1]] + x[split[ mid]] ) \n",
    "                \n",
    "        elif left_wgt > 0.5:\n",
    "            right = mid-1\n",
    "        else:\n",
    "            left = mid+1\n",
    "\n",
    "def repeated_wgt_median(x,y, f=2. / 3.):    \n",
    "    n = len(x)\n",
    "    r = int(ceil(f * n))\n",
    "    h = [np.sort(np.abs(x - x[i]))[r] for i in range(n)]\n",
    "    w = np.clip(np.abs((x[:, None] - x[None, :]) / h), 0.0, 1.0)\n",
    "    #Tricube\n",
    "    w = (70.0*(1 - np.abs(w) ** 3)**3)/81\n",
    "    #w = (3.0*(1 - np.abs(w) ** 2))/4\n",
    "    ys = np.zeros(n)\n",
    "    slopes = np.zeros(n)\n",
    "    mus=[]\n",
    "    for i in range(n):\n",
    "        wgts = w[:,i]\n",
    "        y_i = y[np.nonzero(wgts)]\n",
    "        x_i = x[np.nonzero(wgts)]\n",
    "        wgts = wgts[np.nonzero(wgts)]\n",
    "        wgted_slopes = []\n",
    "        mask = np.ones(len(x_i),dtype=bool)\n",
    "        for j, (xj, yj) in enumerate(zip(x_i,y_i)):\n",
    "            mask[j]=False\n",
    "            wgted_slopes.append(wgted_median( (yj - y_i[mask])/(xj - x_i[mask]), wgts[mask]))\n",
    "            mask[j]=True\n",
    "        slopes[i] = wgted_median(np.array(wgted_slopes), wgts)\n",
    "        beta = slopes[i]\n",
    "        mu = wgted_median((y_i - beta*(x[i])), wgts)\n",
    "        mus.append(mu)\n",
    "        ys[i] = mu + beta *  x[i] \n",
    "    return ys\n",
    "\n",
    "def repeated_median(x,y, f=2. / 3.):    \n",
    "    n = len(x)\n",
    "    r = int(ceil(f * n))\n",
    "    h = [np.sort(np.abs(x - x[i]))[r] for i in range(n)]\n",
    "    w = np.clip(np.abs((x[:, None] - x[None, :]) / h), 0.0, 1.0)\n",
    "    #Boxcar\n",
    "    w = (1-w)\n",
    "    ys = np.zeros(n)\n",
    "    slopes = np.zeros(n)\n",
    "    mus=[]\n",
    "    for i in range(n):\n",
    "        wgts = w[:,i]\n",
    "        y_i = y[np.nonzero(wgts)]\n",
    "        x_i = x[np.nonzero(wgts)]\n",
    "        wgts = wgts[np.nonzero(wgts)]\n",
    "        wgted_slopes = []\n",
    "        mask = np.ones(len(x_i),dtype=bool)\n",
    "        for j, (xj, yj) in enumerate(zip(x_i,y_i)):\n",
    "            mask[j]=False\n",
    "            wgted_slopes.append(np.median( (yj - y_i[mask])/(xj - x_i[mask])))\n",
    "            mask[j]=True\n",
    "        slopes[i] = np.median(np.array(wgted_slopes))\n",
    "        beta = slopes[i]\n",
    "        mu = np.median((y_i - beta*(x[i]) ))\n",
    "        mus.append(mu)\n",
    "        ys[i] = mu + beta *  x[i]\n",
    "    return ys"
   ]
  },
  {
   "cell_type": "code",
   "execution_count": 60,
   "metadata": {
    "collapsed": false
   },
   "outputs": [
    {
     "name": "stdout",
     "output_type": "stream",
     "text": [
      "0.35496002405\n",
      "0.317329264818\n",
      "0.39634298371\n",
      "Populating the interactive namespace from numpy and matplotlib\n"
     ]
    },
    {
     "name": "stderr",
     "output_type": "stream",
     "text": [
      "WARNING: pylab import has clobbered these variables: ['f']\n",
      "`%matplotlib` prevents importing * from pylab and numpy\n"
     ]
    },
    {
     "data": {
      "image/png": "[encoded data removed]",
      "text/plain": [
       "<matplotlib.figure.Figure at 0x7feba90>"
      ]
     },
     "metadata": {},
     "output_type": "display_data"
    }
   ],
   "source": [
    "import math\n",
    "n = 150\n",
    "x = np.linspace(0, 2 * math.pi, n)\n",
    "y = np.sin(x) + 0.3 * np.random.randn(n)\n",
    "\n",
    "f = 0.7\n",
    "yest_lowess = lowess(x, y, f=f, iter=3)\n",
    "print(np.mean(np.abs(y-yest_lowess)))\n",
    "yest = repeated_wgt_median(x, y, f=f)\n",
    "print(np.mean(np.abs(y-yest)))\n",
    "yest_boxcar = repeated_median(x, y, f=f)\n",
    "print(np.mean(np.abs(y-yest_boxcar)))\n",
    "%pylab inline\n",
    "import pylab as pl\n",
    "pl.clf()\n",
    "pl.scatter(x, y, label='y noisy')\n",
    "pl.plot(x, yest_lowess, label='y pred lowess')\n",
    "pl.plot(x, yest, label='y pred median')\n",
    "pl.plot(x, yest_boxcar, label='y pred boxcar')\n",
    "pl.legend()\n",
    "pl.show()"
   ]
  },
  {
   "cell_type": "code",
   "execution_count": null,
   "metadata": {
    "collapsed": true
   },
   "outputs": [],
   "source": []
  }
 ],
 "metadata": {
  "kernelspec": {
   "display_name": "Python 2",
   "language": "python",
   "name": "python2"
  },
  "language_info": {
   "codemirror_mode": {
    "name": "ipython",
    "version": 2
   },
   "file_extension": ".py",
   "mimetype": "text/x-python",
   "name": "python",
   "nbconvert_exporter": "python",
   "pygments_lexer": "ipython2",
   "version": "2.7.13"
  }
 },
 "nbformat": 4,
 "nbformat_minor": 0
}
